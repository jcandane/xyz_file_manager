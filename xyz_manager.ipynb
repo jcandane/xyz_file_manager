{
  "nbformat": 4,
  "nbformat_minor": 0,
  "metadata": {
    "colab": {
      "name": "xyz_manager.ipynb",
      "provenance": [],
      "collapsed_sections": [],
      "include_colab_link": true
    },
    "kernelspec": {
      "name": "python3",
      "display_name": "Python 3"
    },
    "language_info": {
      "name": "python"
    }
  },
  "cells": [
    {
      "cell_type": "markdown",
      "metadata": {
        "id": "view-in-github",
        "colab_type": "text"
      },
      "source": [
        "<a href=\"https://colab.research.google.com/github/jcandane/xyz_file_manager/blob/main/xyz_manager.ipynb\" target=\"_parent\"><img src=\"https://colab.research.google.com/assets/colab-badge.svg\" alt=\"Open In Colab\"/></a>"
      ]
    },
    {
      "cell_type": "markdown",
      "source": [
        ""
      ],
      "metadata": {
        "id": "9hvE9TOYfZog"
      }
    },
    {
      "cell_type": "code",
      "execution_count": 125,
      "metadata": {
        "id": "GOVSogzzdgc_"
      },
      "outputs": [],
      "source": [
        "import numpy as np\n",
        "\n",
        "def Bohr(x): ### given Ångström get Bohr\n",
        "    return 1.889726125 * x \n",
        "\n",
        "def Ångström(x): ### given Bohr get Ångström\n",
        "    return x / 1.889726125\n",
        "\n",
        "def print2darray_tostring(Array_2D, ZZ):\n",
        "    \"\"\" ZZ is the input from UHF object (LiH.Z) \"\"\"\n",
        "    output = ''\n",
        "    for index, atom in enumerate(Array_2D):\n",
        "        output += \"  \" + ZZ[index]\n",
        "        for xyz in atom:\n",
        "            number = np.format_float_positional(np.float32(xyz), unique=False, precision=6, pad_left = True)\n",
        "            output += \"\\t  \" + number\n",
        "        output += \";\\n\"\n",
        "    return output.rstrip()\n",
        "\n",
        "def xyz_reader(name, input_unit=\"Å\", output_unit=\"å\", mass=False, atomic_number=False): #currentlogfile = 'Ar_1000.xyz'#'Ne_1000.xyz'#'Na_7.xyz'#'Na_1000.xyz'# #currentlogfile = 'Xe_1Million.xyz' #currentlogfile = 'ArTest20.xyz' #ArTest.xyz\n",
        "\n",
        "    units = {\"Å\":0, \"Ångström\":0, \"Angstrom\":0, \"angstrom\":0, \"nm\":1, \"nanometer\":1, \"å\":2, \"bohr\":2, \"Bohr\":2}\n",
        "\n",
        "    unitconversionmatrix = np.array([[1., 0.1, 1.8897259885], [10., 1., 18.8972598858], [1/1.8897259885,1/18.8972598858,1.]])\n",
        "    u = unitconversionmatrix[ units[input_unit], units[output_unit] ]\n",
        "\n",
        "    Element_Names = {'e ':0,  0:'e ',  'H ':  1,  1:'H ',  'He':  2,  2:'He',\n",
        "                  'Li':  3,  3:'Li',  'Be':  4,  4:'Be',  'B ':  5,  5:'B ',  'C ':  6,  6:'C ',  'N ':  7,  7:'N ',  'O ':  8,  8:'O ',  'F ':  9,  9:'F ',  'Ne': 10, 10:'Ne', \n",
        "                  'Na': 11, 11:'Na',  'Mg': 12, 12:'Mg',  'Al': 13, 13:'Al',  'Si': 14, 14:'Si',  'P ': 15, 15:'P ',  'S ': 16, 16:'S ',  'Cl': 17, 17:'Cl',  'Ar': 18, 18:'Ar',\n",
        "                  'K ': 19, 19:'K ',  'Ca': 20, 20:'Ca',  'Sc': 21, 21:'Sc',  'Ti': 22, 22:'Ti',  'V ': 23, 23:'V ',  'Cr': 24, 24:'Cr',  'Mn': 25, 25:'Mn',  'Fe': 26, 26:'Fe',  'Co': 27, 27:'Co',  'Ni': 28, 28:'Ni',  'Cu': 29, 29:'Cu',  'Zn': 30, 30:'Zn',  'Ga': 31, 31:'Ga',  'Ge': 32, 32:'Ge',  'As': 33, 33:'As',  'Se': 34, 34:'Se',  'Br': 35, 35:'Br',  'Kr': 36, 36:'Kr', \n",
        "                  'Rb': 37, 37:'Rb',  'Sr': 38, 38:'Sr',  'Y ': 39, 39:'Y ',  'Zr': 40, 40:'Zr',  'Nb': 41, 41:'Nb',  'Mo': 42, 42:'Mo',  'Tc': 43, 43:'Tc',  'Ru': 44, 44:'Ru',  'Rh': 45, 45:'Rh',  'Pd': 46, 46:'Pd',  'Ag': 47, 47:'Ag',  'Cd': 48, 48:'Cd',  'In': 49, 49:'In',  'Sn': 50, 50:'Sn',  'Sb': 51, 51:'Sb',  'Te': 52, 52:'Te',  'I ': 53, 53:'I ',  'Xe': 54, 54:'Xe',\n",
        "                  'Cs': 55, 55:'Cs',  'Ba': 56, 56:'Ba',  'La': 57, 57:'La',  'Ce': 58, 58:'Ce',  'Pr': 59, 59:'Pr',  'Nd': 60, 60:'Nd',  'Pm': 61, 61:'Pm',  'Sm': 62, 62:'Sm',  'Eu': 63, 63:'Eu',  'Gd': 64, 64:'Gd',  'Tb': 65, 65:'Tb',  'Dy': 66, 66:'Dy',  'Ho': 67, 67:'Ho',  'Er': 68, 68:'Er',  'Tm': 69, 69:'Tm',  'Yb': 70, 70:'Yb',  'Lu': 71, 71:'Lu',  'Hf': 72, 72:'Hf',  'Ta': 73, 73:'Ta',  'W ': 74, 74:'W ',  'Re': 75, 75:'Re',  'Os': 76, 76:'Os',  'Ir': 77, 77:'Ir',  'Pt': 78, 78:'Pt',  'Au': 79, 79:'Au', 'Hg': 80, 80:'Hg',  'Tl': 81, 81:'Tl',  'Pb': 82, 82:'Pb',  'Bi': 83, 83:'Bi',  'Po': 84, 84:'Po', 'At': 85, 85:'At', 'Rn': 86, 86:'Rn', \n",
        "                  'Fr': 87, 87:'Fr',  'Ra': 88, 88:'Ra',  'Ac': 89, 89:'Ac',  'Th': 90, 90:'Th',  'Pa': 91, 91:'Pa',  'U ': 92, 92:'U ',  'Np': 93, 93:'Np',  'Pu': 94, 94:'Pu',  'Am': 95, 95:'Am',  'Cm': 96, 96:'Cm',  'Bk': 97, 97:'Bk',  'Cf': 98, 98:'Cf',  'Es': 99, 99:'Es',  'Fm':100,100:'Fm',  'Md':101,101:'Md',  'No':102,102:'No',  'Lr':103,103:'Lr',  'Rf':104,104:'Rf',  'Db':105,105:'Db',  'Sg':106,106:'Sg',  'Bh':107,107:'Bh',  'Hs':108,108:'Hs',  'Mt':109,109:'Mt',  'Ds':110,110:'Ds',  'Rg':111,111:'Rg', 'Cn':112,112:'Cn',  'Nh':113,113:'Nh',  'Fl':114,114:'Fl',  'Mc':115,115:'Mc',  'Lv':116,116:'Lv', 'Ts':117,117:'Ts', 'Og':118,118:'Og'}\n",
        "\n",
        "    Z_mass = np.array([ 1.,   1837.,   7297.,  \n",
        "                   12650., 16427.,  19705.,  21894.,  25533.,  29164.,  34631., 36785.,  \n",
        "                   41908., 44305.,  49185.,  51195.,  56462.,  58441.,  64621.,  72820.,  \n",
        "                   71271., 73057.,  81949.,  87256.,  92861.,  94782., 100145., 101799., 107428., 106990., 115837., 119180., 127097., 132396., 136574., 143955., 145656., 152754.,\n",
        "                   155798., 159721., 162065., 166291., 169357., 174906., 176820., 184239., 187586., 193991., 196631., 204918., 209300., 216395., 221954., 232600., 231331., 239332., \n",
        "                   242270., 250331., 253208., 255415., 256859., 262937., 264318., 274089., 277013., 286649., 289702., 296219., 300649., 304894., 307947., 315441., 318945., 325367., 329848., 335119., 339434., 346768., 350390., 355616., 359048., 365656., 372561., 377702., 380947., 380983., 382806., 404681.,\n",
        "                   406504., 411972., 413795., 422979., 421152., 433900., 432024., 444784., 442961., 450253., 450253., 457545., 459367., 468482., 470305., 472128., 477596., 486711., 492179., 490357., 492179., 492179., 506763., 512231., 512231., 519523., 521346., 526814., 526814., 534106., 534106., 535929.])\n",
        "\n",
        "    file = open(name,'r')\n",
        "    lines = file.readlines()\n",
        "    lines.pop(0)\n",
        "    lines.pop(0)\n",
        "    \n",
        "    Z = np.array([], dtype=np.int8)\n",
        "    x = np.array([])\n",
        "    y = np.array([])\n",
        "    z = np.array([])\n",
        "\n",
        "    for element in lines:\n",
        "        a_line_in_lines = element.split()\n",
        "    \n",
        "        Z = np.append(Z , [np.int8(Element_Names[element[0] + element[1]])], axis = 0) \n",
        "        x = np.append(x, [(float(a_line_in_lines[1]))], axis = 0)\n",
        "        y = np.append(y, [(float(a_line_in_lines[2]))], axis = 0)\n",
        "        z = np.append(z, [(float(a_line_in_lines[3]))], axis = 0)\n",
        "    file.close()\n",
        "\n",
        "    if mass == True:\n",
        "        m_i = Z_mass(Z)\n",
        "        return Z, u * np.stack((x, y, z)).T, m_i\n",
        "    else:\n",
        "        return Z, u * np.stack((x, y, z)).T\n",
        "\n",
        "def Get_xyz_movie(NumPy_Array, Z_in, file_name):\n",
        "    #reorinate the array, i = atom #, x = xyz coordinate, t = time-step\n",
        "    #NumPy_Array = np.einsum('ixt -> tix', NumPy_Array) \n",
        "    \n",
        "    #http://www.chm.bris.ac.uk/~paulmay/temp/pcc/xyz.htm\n",
        "    ff = open(file_name + \".xyz\", \"w\")\n",
        "    for index, element in enumerate(NumPy_Array):\n",
        "        ff.write(str(len(element)) + \"\\n\")\n",
        "        ff.write(str(index) + \"\\n\")\n",
        "        ff.write(print2darray_tostring(element, Z_in))\n",
        "        ff.write(\"\\n\")\n",
        "    ff.close() \n",
        "    \n",
        "    return None\n",
        "\n",
        "def atomicname_to_Z(Z_atomicname):\n",
        "    Element_Names = {'e ':0,  0:'e ',  'H ':  1,  1:'H ',  'He':  2,  2:'He',\n",
        "                  'Li':  3,  3:'Li',  'Be':  4,  4:'Be',  'B ':  5,  5:'B ',  'C ':  6,  6:'C ',  'N ':  7,  7:'N ',  'O ':  8,  8:'O ',  'F ':  9,  9:'F ',  'Ne': 10, 10:'Ne', \n",
        "                  'Na': 11, 11:'Na',  'Mg': 12, 12:'Mg',  'Al': 13, 13:'Al',  'Si': 14, 14:'Si',  'P ': 15, 15:'P ',  'S ': 16, 16:'S ',  'Cl': 17, 17:'Cl',  'Ar': 18, 18:'Ar',\n",
        "                  'K ': 19, 19:'K ',  'Ca': 20, 20:'Ca',  'Sc': 21, 21:'Sc',  'Ti': 22, 22:'Ti',  'V ': 23, 23:'V ',  'Cr': 24, 24:'Cr',  'Mn': 25, 25:'Mn',  'Fe': 26, 26:'Fe',  'Co': 27, 27:'Co',  'Ni': 28, 28:'Ni',  'Cu': 29, 29:'Cu',  'Zn': 30, 30:'Zn',  'Ga': 31, 31:'Ga',  'Ge': 32, 32:'Ge',  'As': 33, 33:'As',  'Se': 34, 34:'Se',  'Br': 35, 35:'Br',  'Kr': 36, 36:'Kr', \n",
        "                  'Rb': 37, 37:'Rb',  'Sr': 38, 38:'Sr',  'Y ': 39, 39:'Y ',  'Zr': 40, 40:'Zr',  'Nb': 41, 41:'Nb',  'Mo': 42, 42:'Mo',  'Tc': 43, 43:'Tc',  'Ru': 44, 44:'Ru',  'Rh': 45, 45:'Rh',  'Pd': 46, 46:'Pd',  'Ag': 47, 47:'Ag',  'Cd': 48, 48:'Cd',  'In': 49, 49:'In',  'Sn': 50, 50:'Sn',  'Sb': 51, 51:'Sb',  'Te': 52, 52:'Te',  'I ': 53, 53:'I ',  'Xe': 54, 54:'Xe',\n",
        "                  'Cs': 55, 55:'Cs',  'Ba': 56, 56:'Ba',  'La': 57, 57:'La',  'Ce': 58, 58:'Ce',  'Pr': 59, 59:'Pr',  'Nd': 60, 60:'Nd',  'Pm': 61, 61:'Pm',  'Sm': 62, 62:'Sm',  'Eu': 63, 63:'Eu',  'Gd': 64, 64:'Gd',  'Tb': 65, 65:'Tb',  'Dy': 66, 66:'Dy',  'Ho': 67, 67:'Ho',  'Er': 68, 68:'Er',  'Tm': 69, 69:'Tm',  'Yb': 70, 70:'Yb',  'Lu': 71, 71:'Lu',  'Hf': 72, 72:'Hf',  'Ta': 73, 73:'Ta',  'W ': 74, 74:'W ',  'Re': 75, 75:'Re',  'Os': 76, 76:'Os',  'Ir': 77, 77:'Ir',  'Pt': 78, 78:'Pt',  'Au': 79, 79:'Au', 'Hg': 80, 80:'Hg',  'Tl': 81, 81:'Tl',  'Pb': 82, 82:'Pb',  'Bi': 83, 83:'Bi',  'Po': 84, 84:'Po', 'At': 85, 85:'At', 'Rn': 86, 86:'Rn', \n",
        "                  'Fr': 87, 87:'Fr',  'Ra': 88, 88:'Ra',  'Ac': 89, 89:'Ac',  'Th': 90, 90:'Th',  'Pa': 91, 91:'Pa',  'U ': 92, 92:'U ',  'Np': 93, 93:'Np',  'Pu': 94, 94:'Pu',  'Am': 95, 95:'Am',  'Cm': 96, 96:'Cm',  'Bk': 97, 97:'Bk',  'Cf': 98, 98:'Cf',  'Es': 99, 99:'Es',  'Fm':100,100:'Fm',  'Md':101,101:'Md',  'No':102,102:'No',  'Lr':103,103:'Lr',  'Rf':104,104:'Rf',  'Db':105,105:'Db',  'Sg':106,106:'Sg',  'Bh':107,107:'Bh',  'Hs':108,108:'Hs',  'Mt':109,109:'Mt',  'Ds':110,110:'Ds',  'Rg':111,111:'Rg', 'Cn':112,112:'Cn',  'Nh':113,113:'Nh',  'Fl':114,114:'Fl',  'Mc':115,115:'Mc',  'Lv':116,116:'Lv', 'Ts':117,117:'Ts', 'Og':118,118:'Og'}\n",
        "\n",
        "    Z = np.zeros(len(Z_atomicname), dtype=int)\n",
        "    for i in range(len(Z_atomicname)):\n",
        "        Z[i] = Element_Names[(Z_atomicname[i]).strip()]\n",
        "\n",
        "    return Z\n",
        "\n",
        "def get_massses(Z):\n",
        "    Z_mass = np.array([ 1.,   1837.,   7297.,  \n",
        "                   12650., 16427.,  19705.,  21894.,  25533.,  29164.,  34631., 36785.,  \n",
        "                   41908., 44305.,  49185.,  51195.,  56462.,  58441.,  64621.,  72820.,  \n",
        "                   71271., 73057.,  81949.,  87256.,  92861.,  94782., 100145., 101799., 107428., 106990., 115837., 119180., 127097., 132396., 136574., 143955., 145656., 152754.,\n",
        "                   155798., 159721., 162065., 166291., 169357., 174906., 176820., 184239., 187586., 193991., 196631., 204918., 209300., 216395., 221954., 232600., 231331., 239332., \n",
        "                   242270., 250331., 253208., 255415., 256859., 262937., 264318., 274089., 277013., 286649., 289702., 296219., 300649., 304894., 307947., 315441., 318945., 325367., 329848., 335119., 339434., 346768., 350390., 355616., 359048., 365656., 372561., 377702., 380947., 380983., 382806., 404681.,\n",
        "                   406504., 411972., 413795., 422979., 421152., 433900., 432024., 444784., 442961., 450253., 450253., 457545., 459367., 468482., 470305., 472128., 477596., 486711., 492179., 490357., 492179., 492179., 506763., 512231., 512231., 519523., 521346., 526814., 526814., 534106., 534106., 535929.])\n",
        "\n",
        "    return Z_mass[Z]\n",
        "\n",
        "def get_atom_names(Z):\n",
        "    \"\"\"\n",
        "    GIVEN:  atomic number Z (or array of integers)\n",
        "    GET:    atomic symbol\n",
        "    \"\"\"\n",
        "\n",
        "    Names = np.array([\"e \", \"H \", \"He\", \n",
        "    \"Li\", \"Be\", \"B \", \"C \", \"N \", \"O \", \"F \", \"Ne\", \n",
        "    \"Na\", \"Mg\", \"Al\", \"Si\", \"P \", \"S \", \"Cl\", \"Ar\", \n",
        "    \"K \", \"Ca\", \"Sc\", \"Ti\", \"V \", \"Cr\", \"Mn\", \"Fe\", \"Co\", \"Ni\", \"Cu\", \"Zn\", \"Ga\", \"Ge\", \"As\", \"Se\", \"Br\", \"Kr\", \n",
        "    \"Rb\", \"Sr\", \"Y \", \"Zr\", \"Nb\", \"Mo\", \"Tc\", \"Ru\", \"Rh\", \"Pd\", \"Ag\", \"Cd\", \"In\", \"Sn\", \"Sb\", \"Te\", \"I \", \"Xe\", \n",
        "    \"Cs\", \"Ba\", \"La\", \"Ce\", \"Pr\", \"Nd\", \"Pm\", \"Sm\", \"Eu\", \"Gd\", \"Tb\", \"Dy\", \"Ho\", \"Er\", \"Tm\", \"Yb\", \"Lu\", \"Hf\", \"Ta\", \"W \", \"Re\", \"Os\", \"Ir\", \"Pt\", \"Au\", \"Hg\", \"Tl\", \"Pb\", \"Bi\", \"Po\", \"At\", \"Rn\", \n",
        "    \"Fr\", \"Ra\", \"Ac\", \"Th\", \"Pa\", \"U \", \"Np\", \"Pu\", \"Am\", \"Cm\", \"Bk\", \"Cf\", \"Es\", \"Fm\", \"Md\", \"No\", \"Lr\", \"Rf\", \"Db\", \"Sg\", \"Bh\", \"Hs\", \"Mt\", \"Ds\", \"Rg\", \"Cn\", \"Nh\", \"Fl\", \"Mc\", \"Lv\", \"Ts\", \"Og\"])\n",
        "\n",
        "    return Names[Z]\n"
      ]
    },
    {
      "cell_type": "code",
      "source": [
        "Z = xyz_reader(\"Ar_1000.xyz\")[0]\n",
        "\n",
        "xyz_reader(\"Ar_1000.xyz\", output_unit=\"nanometer\")[1]"
      ],
      "metadata": {
        "colab": {
          "base_uri": "https://localhost:8080/"
        },
        "id": "qXCxY2d8djgM",
        "outputId": "9b773cfd-449a-4d8a-b4c4-c2043014c03e"
      },
      "execution_count": 131,
      "outputs": [
        {
          "output_type": "execute_result",
          "data": {
            "text/plain": [
              "array([[ 0.    ,  0.    , -1.0512],\n",
              "       [ 0.    ,  0.2628, -1.314 ],\n",
              "       [-0.2628,  0.2628, -1.0512],\n",
              "       ...,\n",
              "       [-0.5256,  0.7884, -0.7884],\n",
              "       [-0.7884,  0.7884, -0.5256],\n",
              "       [-0.7884,  0.5256, -0.7884]])"
            ]
          },
          "metadata": {},
          "execution_count": 131
        }
      ]
    },
    {
      "cell_type": "code",
      "source": [
        "atomicname_to_Z( xyz_reader(\"Ar_1000.xyz\")[0] )\n",
        "\n",
        "ZZ = atomicname_to_Z( xyz_reader(\"Ar_1000.xyz\")[0] )\n",
        "print(ZZ)\n",
        "print( get_massses(ZZ) )"
      ],
      "metadata": {
        "colab": {
          "base_uri": "https://localhost:8080/"
        },
        "id": "f6MNzR9Bg9Un",
        "outputId": "e4f0f418-952c-4bbd-ce7e-a0ab0f4f76f0"
      },
      "execution_count": 4,
      "outputs": [
        {
          "output_type": "stream",
          "name": "stdout",
          "text": [
            "[18 18 18 ... 18 18 18]\n",
            "[72820. 72820. 72820. ... 72820. 72820. 72820.]\n"
          ]
        }
      ]
    },
    {
      "cell_type": "code",
      "source": [
        "Element_Names = {'e ':0,  0:'e ',  'H ':  1,  1:'H ',  'He':  2,  2:'He',\n",
        "               'Li':  3,  3:'Li',  'Be':  4,  4:'Be',  'B ':  5,  5:'B ',  'C ':  6,  6:'C ',  'N ':  7,  7:'N ',  'O ':  8,  8:'O ',  'F ':  9,  9:'F ',  'Ne': 10, 10:'Ne', \n",
        "               'Na': 11, 11:'Na',  'Mg': 12, 12:'Mg',  'Al': 13, 13:'Al',  'Si': 14, 14:'Si',  'P ': 15, 15:'P ',  'S ': 16, 16:'S ',  'Cl': 17, 17:'Cl',  'Ar': 18, 18:'Ar',\n",
        "               'K ': 19, 19:'K ',  'Ca': 20, 20:'Ca',  'Sc': 21, 21:'Sc',  'Ti': 22, 22:'Ti',  'V ': 23, 23:'V ',  'Cr': 24, 24:'Cr',  'Mn': 25, 25:'Mn',  'Fe': 26, 26:'Fe',  'Co': 27, 27:'Co',  'Ni': 28, 28:'Ni',  'Cu': 29, 29:'Cu',  'Zn': 30, 30:'Zn',  'Ga': 31, 31:'Ga',  'Ge': 32, 32:'Ge',  'As': 33, 33:'As',  'Se': 34, 34:'Se',  'Br': 35, 35:'Br',  'Kr': 36, 36:'Kr', \n",
        "               'Rb': 37, 37:'Rb',  'Sr': 38, 38:'Sr',  'Y ': 39, 39:'Y ',  'Zr': 40, 40:'Zr',  'Nb': 41, 41:'Nb',  'Mo': 42, 42:'Mo',  'Tc': 43, 43:'Tc',  'Ru': 44, 44:'Ru',  'Rh': 45, 45:'Rh',  'Pd': 46, 46:'Pd',  'Ag': 47, 47:'Ag',  'Cd': 48, 48:'Cd',  'In': 49, 49:'In',  'Sn': 50, 50:'Sn',  'Sb': 51, 51:'Sb',  'Te': 52, 52:'Te',  'I ': 53, 53:'I ',  'Xe': 54, 54:'Xe',\n",
        "               'Cs': 55, 55:'Cs',  'Ba': 56, 56:'Ba',  'La': 57, 57:'La',  'Ce': 58, 58:'Ce',  'Pr': 59, 59:'Pr',  'Nd': 60, 60:'Nd',  'Pm': 61, 61:'Pm',  'Sm': 62, 62:'Sm',  'Eu': 63, 63:'Eu',  'Gd': 64, 64:'Gd',  'Tb': 65, 65:'Tb',  'Dy': 66, 66:'Dy',  'Ho': 67, 67:'Ho',  'Er': 68, 68:'Er',  'Tm': 69, 69:'Tm',  'Yb': 70, 70:'Yb',  'Lu': 71, 71:'Lu',  'Hf': 72, 72:'Hf',  'Ta': 73, 73:'Ta',  'W ': 74, 74:'W ',  'Re': 75, 75:'Re',  'Os': 76, 76:'Os',  'Ir': 77, 77:'Ir',  'Pt': 78, 78:'Pt',  'Au': 79, 79:'Au', 'Hg': 80, 80:'Hg',  'Tl': 81, 81:'Tl',  'Pb': 82, 82:'Pb',  'Bi': 83, 83:'Bi',  'Po': 84, 84:'Po', 'At': 85, 85:'At', 'Rn': 86, 86:'Rn', \n",
        "               'Fr': 87, 87:'Fr',  'Ra': 88, 88:'Ra',  'Ac': 89, 89:'Ac',  'Th': 90, 90:'Th',  'Pa': 91, 91:'Pa',  'U ': 92, 92:'U ',  'Np': 93, 93:'Np',  'Pu': 94, 94:'Pu',  'Am': 95, 95:'Am',  'Cm': 96, 96:'Cm',  'Bk': 97, 97:'Bk',  'Cf': 98, 98:'Cf',  'Es': 99, 99:'Es',  'Fm':100,100:'Fm',  'Md':101,101:'Md',  'No':102,102:'No',  'Lr':103,103:'Lr',  'Rf':104,104:'Rf',  'Db':105,105:'Db',  'Sg':106,106:'Sg',  'Bh':107,107:'Bh',  'Hs':108,108:'Hs',  'Mt':109,109:'Mt',  'Ds':110,110:'Ds',  'Rg':111,111:'Rg', 'Cn':112,112:'Cn',  'Nh':113,113:'Nh',  'Fl':114,114:'Fl',  'Mc':115,115:'Mc',  'Lv':116,116:'Lv', 'Ts':117,117:'Ts', 'Og':118,118:'Og'}\n",
        "\n",
        "### make get_atom_names array\n",
        "A = np.arange(0, 119, 1, dtype=np.int64)\n",
        "output = \"np.array([\"\n",
        "for i in range(len(A)):\n",
        "    if i == 118:\n",
        "        output += '\"' + Element_Names[i] + '\"' + \"])\"\n",
        "        break\n",
        "    if len(Element_Names[i]) == 2:\n",
        "        output += '\"' + Element_Names[i] + '\"' + \", \"\n",
        "    if i == 2 or i == 10 or i == 18 or i == 36 or i == 54 or i == 86 or i == 118:\n",
        "        output += \"\\n\"\n",
        "\n",
        "print(output)"
      ],
      "metadata": {
        "colab": {
          "base_uri": "https://localhost:8080/"
        },
        "id": "cZAVk1iuWK9G",
        "outputId": "e6c186ac-57a9-4ec8-cffd-c6098b92e5ec"
      },
      "execution_count": 102,
      "outputs": [
        {
          "output_type": "stream",
          "name": "stdout",
          "text": [
            "np.array([\"e \", \"H \", \"He\", \n",
            "\"Li\", \"Be\", \"B \", \"C \", \"N \", \"O \", \"F \", \"Ne\", \n",
            "\"Na\", \"Mg\", \"Al\", \"Si\", \"P \", \"S \", \"Cl\", \"Ar\", \n",
            "\"K \", \"Ca\", \"Sc\", \"Ti\", \"V \", \"Cr\", \"Mn\", \"Fe\", \"Co\", \"Ni\", \"Cu\", \"Zn\", \"Ga\", \"Ge\", \"As\", \"Se\", \"Br\", \"Kr\", \n",
            "\"Rb\", \"Sr\", \"Y \", \"Zr\", \"Nb\", \"Mo\", \"Tc\", \"Ru\", \"Rh\", \"Pd\", \"Ag\", \"Cd\", \"In\", \"Sn\", \"Sb\", \"Te\", \"I \", \"Xe\", \n",
            "\"Cs\", \"Ba\", \"La\", \"Ce\", \"Pr\", \"Nd\", \"Pm\", \"Sm\", \"Eu\", \"Gd\", \"Tb\", \"Dy\", \"Ho\", \"Er\", \"Tm\", \"Yb\", \"Lu\", \"Hf\", \"Ta\", \"W \", \"Re\", \"Os\", \"Ir\", \"Pt\", \"Au\", \"Hg\", \"Tl\", \"Pb\", \"Bi\", \"Po\", \"At\", \"Rn\", \n",
            "\"Fr\", \"Ra\", \"Ac\", \"Th\", \"Pa\", \"U \", \"Np\", \"Pu\", \"Am\", \"Cm\", \"Bk\", \"Cf\", \"Es\", \"Fm\", \"Md\", \"No\", \"Lr\", \"Rf\", \"Db\", \"Sg\", \"Bh\", \"Hs\", \"Mt\", \"Ds\", \"Rg\", \"Cn\", \"Nh\", \"Fl\", \"Mc\", \"Lv\", \"Ts\", \"Og\"])\n"
          ]
        }
      ]
    },
    {
      "cell_type": "code",
      "source": [
        "file = open(\"Ar_1000.xyz\",'r')\n",
        "a = file.readlines()\n",
        "a.pop(0)\n",
        "a.pop(0)\n",
        "b = np.loadtxt(a, delimiter='\\n', dtype=str)\n",
        "Z_name = b.astype(\"<U2\") ## !! done\n",
        "\n",
        "file.close()\n",
        "print(Z_name)\n",
        "\n",
        "filew = open(\"Ar_1000.xyz\",'r')\n",
        "#a = filew.readlines()\n",
        "#a.pop(0)\n",
        "#a.pop(0)\n",
        "#b = np.loadtxt(a, delimiter='', dtype=str)#, skiprows=2, usecols=(0) )\n",
        "\n",
        "a = filew.read()\n",
        "\n",
        "\n",
        "filew.close()"
      ],
      "metadata": {
        "colab": {
          "base_uri": "https://localhost:8080/"
        },
        "id": "a2HeZptJG_sE",
        "outputId": "f6042a0a-5589-460a-c0ac-3ee185d214ed"
      },
      "execution_count": 104,
      "outputs": [
        {
          "output_type": "stream",
          "name": "stdout",
          "text": [
            "['Ar' 'Ar' 'Ar' ... 'Ar' 'Ar' 'Ar']\n"
          ]
        }
      ]
    },
    {
      "cell_type": "code",
      "source": [
        "from io import StringIO   # StringIO behaves like a file object\n",
        "\n",
        "c = StringIO(\"0 1\\n2 3\")\n",
        "\n",
        "np.loadtxt(c)"
      ],
      "metadata": {
        "colab": {
          "base_uri": "https://localhost:8080/"
        },
        "id": "n3GKLscRHfkd",
        "outputId": "9334fdc5-7744-4245-d5a6-9d4209f2f545"
      },
      "execution_count": 11,
      "outputs": [
        {
          "output_type": "execute_result",
          "data": {
            "text/plain": [
              "array([[0., 1.],\n",
              "       [2., 3.]])"
            ]
          },
          "metadata": {},
          "execution_count": 11
        }
      ]
    },
    {
      "cell_type": "code",
      "source": [
        "!git clone https://github.com/jcandane/pyprototyp"
      ],
      "metadata": {
        "id": "3cAwNfODeW1w"
      },
      "execution_count": null,
      "outputs": []
    },
    {
      "cell_type": "code",
      "source": [
        "from pyprototyp.pyprototyp import pyprototyp\n",
        "\n",
        "pyprototyp(\"xyz_manager\", packages=[], useful=[], defs=[Bohr, Ångström, print2darray_tostring, xyz_reader, Get_xyz_movie, atomicname_to_Z, get_massses], classes=[])"
      ],
      "metadata": {
        "id": "ZFH7z6pWfhyX"
      },
      "execution_count": null,
      "outputs": []
    }
  ]
}